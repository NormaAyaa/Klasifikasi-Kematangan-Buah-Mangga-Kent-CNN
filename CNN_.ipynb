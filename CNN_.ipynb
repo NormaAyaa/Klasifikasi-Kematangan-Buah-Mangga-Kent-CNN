{
  "nbformat": 4,
  "nbformat_minor": 0,
  "metadata": {
    "colab": {
      "provenance": []
    },
    "kernelspec": {
      "name": "python3",
      "display_name": "Python 3"
    },
    "language_info": {
      "name": "python"
    }
  },
  "cells": [
    {
      "cell_type": "code",
      "source": [
        "#Import data dari google drive\n",
        "from google.colab import drive\n",
        "drive.mount('/content/drive')"
      ],
      "metadata": {
        "colab": {
          "base_uri": "https://localhost:8080/"
        },
        "id": "o9QFs75wMOwm",
        "outputId": "62cfa879-e8f4-4bca-f1b8-9aad2fa92fbe"
      },
      "execution_count": null,
      "outputs": [
        {
          "output_type": "stream",
          "name": "stdout",
          "text": [
            "Mounted at /content/drive\n"
          ]
        }
      ]
    },
    {
      "cell_type": "code",
      "source": [
        "from google.colab import drive\n",
        "drive.mount('/content/drive')"
      ],
      "metadata": {
        "id": "OxK0jfJNgQwt",
        "outputId": "be73f6d8-6fe1-4c8d-c7bb-9d2125dd5709",
        "colab": {
          "base_uri": "https://localhost:8080/",
          "height": 341
        }
      },
      "execution_count": null,
      "outputs": [
        {
          "output_type": "error",
          "ename": "MessageError",
          "evalue": "ignored",
          "traceback": [
            "\u001b[0;31m---------------------------------------------------------------------------\u001b[0m",
            "\u001b[0;31mMessageError\u001b[0m                              Traceback (most recent call last)",
            "\u001b[0;32m<ipython-input-1-d5df0069828e>\u001b[0m in \u001b[0;36m<cell line: 2>\u001b[0;34m()\u001b[0m\n\u001b[1;32m      1\u001b[0m \u001b[0;32mfrom\u001b[0m \u001b[0mgoogle\u001b[0m\u001b[0;34m.\u001b[0m\u001b[0mcolab\u001b[0m \u001b[0;32mimport\u001b[0m \u001b[0mdrive\u001b[0m\u001b[0;34m\u001b[0m\u001b[0;34m\u001b[0m\u001b[0m\n\u001b[0;32m----> 2\u001b[0;31m \u001b[0mdrive\u001b[0m\u001b[0;34m.\u001b[0m\u001b[0mmount\u001b[0m\u001b[0;34m(\u001b[0m\u001b[0;34m'/content/drive'\u001b[0m\u001b[0;34m)\u001b[0m\u001b[0;34m\u001b[0m\u001b[0;34m\u001b[0m\u001b[0m\n\u001b[0m",
            "\u001b[0;32m/usr/local/lib/python3.10/dist-packages/google/colab/drive.py\u001b[0m in \u001b[0;36mmount\u001b[0;34m(mountpoint, force_remount, timeout_ms, readonly)\u001b[0m\n\u001b[1;32m    101\u001b[0m \u001b[0;32mdef\u001b[0m \u001b[0mmount\u001b[0m\u001b[0;34m(\u001b[0m\u001b[0mmountpoint\u001b[0m\u001b[0;34m,\u001b[0m \u001b[0mforce_remount\u001b[0m\u001b[0;34m=\u001b[0m\u001b[0;32mFalse\u001b[0m\u001b[0;34m,\u001b[0m \u001b[0mtimeout_ms\u001b[0m\u001b[0;34m=\u001b[0m\u001b[0;36m120000\u001b[0m\u001b[0;34m,\u001b[0m \u001b[0mreadonly\u001b[0m\u001b[0;34m=\u001b[0m\u001b[0;32mFalse\u001b[0m\u001b[0;34m)\u001b[0m\u001b[0;34m:\u001b[0m\u001b[0;34m\u001b[0m\u001b[0;34m\u001b[0m\u001b[0m\n\u001b[1;32m    102\u001b[0m   \u001b[0;34m\"\"\"Mount your Google Drive at the specified mountpoint path.\"\"\"\u001b[0m\u001b[0;34m\u001b[0m\u001b[0;34m\u001b[0m\u001b[0m\n\u001b[0;32m--> 103\u001b[0;31m   return _mount(\n\u001b[0m\u001b[1;32m    104\u001b[0m       \u001b[0mmountpoint\u001b[0m\u001b[0;34m,\u001b[0m\u001b[0;34m\u001b[0m\u001b[0;34m\u001b[0m\u001b[0m\n\u001b[1;32m    105\u001b[0m       \u001b[0mforce_remount\u001b[0m\u001b[0;34m=\u001b[0m\u001b[0mforce_remount\u001b[0m\u001b[0;34m,\u001b[0m\u001b[0;34m\u001b[0m\u001b[0;34m\u001b[0m\u001b[0m\n",
            "\u001b[0;32m/usr/local/lib/python3.10/dist-packages/google/colab/drive.py\u001b[0m in \u001b[0;36m_mount\u001b[0;34m(mountpoint, force_remount, timeout_ms, ephemeral, readonly)\u001b[0m\n\u001b[1;32m    130\u001b[0m   )\n\u001b[1;32m    131\u001b[0m   \u001b[0;32mif\u001b[0m \u001b[0mephemeral\u001b[0m\u001b[0;34m:\u001b[0m\u001b[0;34m\u001b[0m\u001b[0;34m\u001b[0m\u001b[0m\n\u001b[0;32m--> 132\u001b[0;31m     _message.blocking_request(\n\u001b[0m\u001b[1;32m    133\u001b[0m         \u001b[0;34m'request_auth'\u001b[0m\u001b[0;34m,\u001b[0m \u001b[0mrequest\u001b[0m\u001b[0;34m=\u001b[0m\u001b[0;34m{\u001b[0m\u001b[0;34m'authType'\u001b[0m\u001b[0;34m:\u001b[0m \u001b[0;34m'dfs_ephemeral'\u001b[0m\u001b[0;34m}\u001b[0m\u001b[0;34m,\u001b[0m \u001b[0mtimeout_sec\u001b[0m\u001b[0;34m=\u001b[0m\u001b[0;32mNone\u001b[0m\u001b[0;34m\u001b[0m\u001b[0;34m\u001b[0m\u001b[0m\n\u001b[1;32m    134\u001b[0m     )\n",
            "\u001b[0;32m/usr/local/lib/python3.10/dist-packages/google/colab/_message.py\u001b[0m in \u001b[0;36mblocking_request\u001b[0;34m(request_type, request, timeout_sec, parent)\u001b[0m\n\u001b[1;32m    174\u001b[0m       \u001b[0mrequest_type\u001b[0m\u001b[0;34m,\u001b[0m \u001b[0mrequest\u001b[0m\u001b[0;34m,\u001b[0m \u001b[0mparent\u001b[0m\u001b[0;34m=\u001b[0m\u001b[0mparent\u001b[0m\u001b[0;34m,\u001b[0m \u001b[0mexpect_reply\u001b[0m\u001b[0;34m=\u001b[0m\u001b[0;32mTrue\u001b[0m\u001b[0;34m\u001b[0m\u001b[0;34m\u001b[0m\u001b[0m\n\u001b[1;32m    175\u001b[0m   )\n\u001b[0;32m--> 176\u001b[0;31m   \u001b[0;32mreturn\u001b[0m \u001b[0mread_reply_from_input\u001b[0m\u001b[0;34m(\u001b[0m\u001b[0mrequest_id\u001b[0m\u001b[0;34m,\u001b[0m \u001b[0mtimeout_sec\u001b[0m\u001b[0;34m)\u001b[0m\u001b[0;34m\u001b[0m\u001b[0;34m\u001b[0m\u001b[0m\n\u001b[0m",
            "\u001b[0;32m/usr/local/lib/python3.10/dist-packages/google/colab/_message.py\u001b[0m in \u001b[0;36mread_reply_from_input\u001b[0;34m(message_id, timeout_sec)\u001b[0m\n\u001b[1;32m    101\u001b[0m     ):\n\u001b[1;32m    102\u001b[0m       \u001b[0;32mif\u001b[0m \u001b[0;34m'error'\u001b[0m \u001b[0;32min\u001b[0m \u001b[0mreply\u001b[0m\u001b[0;34m:\u001b[0m\u001b[0;34m\u001b[0m\u001b[0;34m\u001b[0m\u001b[0m\n\u001b[0;32m--> 103\u001b[0;31m         \u001b[0;32mraise\u001b[0m \u001b[0mMessageError\u001b[0m\u001b[0;34m(\u001b[0m\u001b[0mreply\u001b[0m\u001b[0;34m[\u001b[0m\u001b[0;34m'error'\u001b[0m\u001b[0;34m]\u001b[0m\u001b[0;34m)\u001b[0m\u001b[0;34m\u001b[0m\u001b[0;34m\u001b[0m\u001b[0m\n\u001b[0m\u001b[1;32m    104\u001b[0m       \u001b[0;32mreturn\u001b[0m \u001b[0mreply\u001b[0m\u001b[0;34m.\u001b[0m\u001b[0mget\u001b[0m\u001b[0;34m(\u001b[0m\u001b[0;34m'data'\u001b[0m\u001b[0;34m,\u001b[0m \u001b[0;32mNone\u001b[0m\u001b[0;34m)\u001b[0m\u001b[0;34m\u001b[0m\u001b[0;34m\u001b[0m\u001b[0m\n\u001b[1;32m    105\u001b[0m \u001b[0;34m\u001b[0m\u001b[0m\n",
            "\u001b[0;31mMessageError\u001b[0m: Error: credential propagation was unsuccessful"
          ]
        }
      ]
    },
    {
      "cell_type": "code",
      "source": [
        "cd /content/drive/MyDrive/"
      ],
      "metadata": {
        "colab": {
          "base_uri": "https://localhost:8080/"
        },
        "id": "-VMpvbA3M9pl",
        "outputId": "911174f8-3e6f-4ccc-ef15-c0e429810a24"
      },
      "execution_count": null,
      "outputs": [
        {
          "output_type": "stream",
          "name": "stdout",
          "text": [
            "/content/drive/MyDrive\n"
          ]
        }
      ]
    },
    {
      "cell_type": "code",
      "source": [
        "import glob  # finding image paths\n",
        "\n",
        "data = ['Matang', 'Mentah']\n",
        "\n",
        "for img_list in data:\n",
        "    print(f'{img_list} images: ', len(f'/Dataset_Mango_Kent/{data}'))\n",
        "\n",
        "    total_image = len(list(glob.iglob('Dataset_Mango_Kent/**/*.JPG', recursive=True)))\n",
        "print(\"Total Data Image JPG     : \", total_image)\n",
        "\n",
        "# img_list = sorted(glob.glob('DB_Mango/*.JPG'))\n",
        "# print(img_list)"
      ],
      "metadata": {
        "colab": {
          "base_uri": "https://localhost:8080/"
        },
        "id": "u__-WsJzNg5F",
        "outputId": "b885ec94-e1c6-4966-dc8d-e38c81f71c91"
      },
      "execution_count": null,
      "outputs": [
        {
          "output_type": "stream",
          "name": "stdout",
          "text": [
            "Matang images:  40\n",
            "Mentah images:  40\n",
            "Total Data Image JPG     :  160\n"
          ]
        }
      ]
    },
    {
      "cell_type": "code",
      "source": [
        "# from tensorflow.keras.utils import array_to_img, img_to_array, load_img\n",
        "# from tensorflow.keras.preprocessing.image import ImageDataGenerator\n",
        "# from PIL import Image\n",
        "\n",
        "# datagen = ImageDataGenerator(\n",
        "#         rotation_range=40,\n",
        "#         width_shift_range=0.2,\n",
        "#         height_shift_range=0.2,\n",
        "#         rescale=1./255,\n",
        "#         shear_range=0.2,\n",
        "#         zoom_range=0.4,\n",
        "#         horizontal_flip=True,\n",
        "#         fill_mode='nearest')\n",
        "\n",
        "# for path in img_list:\n",
        "#     img = Image.open(path)\n",
        "#     x = img_to_array(img)    # this is a Numpy array with shape (3, 150, 150)\n",
        "#     x = x.reshape((1,) + x.shape)\n",
        "#     i = 0\n",
        "#     for batch in datagen.flow(x, batch_size=1,\n",
        "#                           save_to_dir=\".\", save_prefix='img', save_format='jpeg'):\n",
        "#         i += 1\n",
        "#         if i > 10:     ## creates 10 image form 1 image \n",
        "#             break  "
      ],
      "metadata": {
        "id": "EjeS-FRUPQ6p"
      },
      "execution_count": null,
      "outputs": []
    },
    {
      "cell_type": "code",
      "source": [
        "from keras.layers import Input,Lambda,Dense,Flatten\n",
        "from keras.models import Model \n",
        "from keras.applications.vgg16 import VGG16 \n",
        "from keras.applications.vgg16 import preprocess_input\n",
        "from keras.preprocessing import image\n",
        "from keras.preprocessing.image import ImageDataGenerator\n",
        "from keras.models import Sequential\n",
        "import numpy as np"
      ],
      "metadata": {
        "id": "dzbs85pMREpK"
      },
      "execution_count": null,
      "outputs": []
    },
    {
      "cell_type": "code",
      "source": [
        "### Defining Image size\n",
        "IMAGE_SIZE = [224, 224]### Loading model\n",
        "vgg = VGG16(input_shape=IMAGE_SIZE + [3], weights='imagenet', include_top=False)### Freezing layers\n",
        "for layer in vgg.layers:  \n",
        "  layer.trainable = False### adding a 3 node final layer for predicion\n",
        "x = Flatten()(vgg.output)\n",
        "prediction = Dense(2, activation='softmax')(x)\n",
        "model = Model(inputs=vgg.input, outputs=prediction)### Generating Summary\n",
        "model.summary()"
      ],
      "metadata": {
        "colab": {
          "base_uri": "https://localhost:8080/"
        },
        "id": "QA_bB57FRF0L",
        "outputId": "ad880d76-39ac-477b-fbb2-56fb8fb06344"
      },
      "execution_count": null,
      "outputs": [
        {
          "output_type": "stream",
          "name": "stdout",
          "text": [
            "Model: \"model_1\"\n",
            "_________________________________________________________________\n",
            " Layer (type)                Output Shape              Param #   \n",
            "=================================================================\n",
            " input_2 (InputLayer)        [(None, 224, 224, 3)]     0         \n",
            "                                                                 \n",
            " block1_conv1 (Conv2D)       (None, 224, 224, 64)      1792      \n",
            "                                                                 \n",
            " block1_conv2 (Conv2D)       (None, 224, 224, 64)      36928     \n",
            "                                                                 \n",
            " block1_pool (MaxPooling2D)  (None, 112, 112, 64)      0         \n",
            "                                                                 \n",
            " block2_conv1 (Conv2D)       (None, 112, 112, 128)     73856     \n",
            "                                                                 \n",
            " block2_conv2 (Conv2D)       (None, 112, 112, 128)     147584    \n",
            "                                                                 \n",
            " block2_pool (MaxPooling2D)  (None, 56, 56, 128)       0         \n",
            "                                                                 \n",
            " block3_conv1 (Conv2D)       (None, 56, 56, 256)       295168    \n",
            "                                                                 \n",
            " block3_conv2 (Conv2D)       (None, 56, 56, 256)       590080    \n",
            "                                                                 \n",
            " block3_conv3 (Conv2D)       (None, 56, 56, 256)       590080    \n",
            "                                                                 \n",
            " block3_pool (MaxPooling2D)  (None, 28, 28, 256)       0         \n",
            "                                                                 \n",
            " block4_conv1 (Conv2D)       (None, 28, 28, 512)       1180160   \n",
            "                                                                 \n",
            " block4_conv2 (Conv2D)       (None, 28, 28, 512)       2359808   \n",
            "                                                                 \n",
            " block4_conv3 (Conv2D)       (None, 28, 28, 512)       2359808   \n",
            "                                                                 \n",
            " block4_pool (MaxPooling2D)  (None, 14, 14, 512)       0         \n",
            "                                                                 \n",
            " block5_conv1 (Conv2D)       (None, 14, 14, 512)       2359808   \n",
            "                                                                 \n",
            " block5_conv2 (Conv2D)       (None, 14, 14, 512)       2359808   \n",
            "                                                                 \n",
            " block5_conv3 (Conv2D)       (None, 14, 14, 512)       2359808   \n",
            "                                                                 \n",
            " block5_pool (MaxPooling2D)  (None, 7, 7, 512)         0         \n",
            "                                                                 \n",
            " flatten_1 (Flatten)         (None, 25088)             0         \n",
            "                                                                 \n",
            " dense_1 (Dense)             (None, 2)                 50178     \n",
            "                                                                 \n",
            "=================================================================\n",
            "Total params: 14,764,866\n",
            "Trainable params: 50,178\n",
            "Non-trainable params: 14,714,688\n",
            "_________________________________________________________________\n"
          ]
        }
      ]
    },
    {
      "cell_type": "code",
      "source": [
        "model.compile( loss='categorical_crossentropy',  \n",
        "               optimizer='adam',  \n",
        "               metrics=['accuracy'])"
      ],
      "metadata": {
        "id": "FXB-W4v4S3kf"
      },
      "execution_count": null,
      "outputs": []
    },
    {
      "cell_type": "code",
      "source": [
        "# datagen = ImageDataGenerator(\n",
        "#                     rescale=1./255,\n",
        "#                     rotation_range=30,\n",
        "#                     width_shift_range=0.2,\n",
        "#                     height_shift_range=0.2,\n",
        "#                     zoom_range=0.4,\n",
        "#                     shear_range = 0.2,\n",
        "#                     brightness_range = [0,1],\n",
        "#                     horizontal_flip=True,\n",
        "#                     vertical_flip= True,\n",
        "#                     fill_mode = 'nearest',\n",
        "#                     validation_split = 0.2) #membagi validation set 20%\n",
        "\n",
        "train_datagen = ImageDataGenerator(rescale = 1./255,                          \n",
        "                                    shear_range = 0.2,\n",
        "                                   zoom_range = 0.2,\n",
        "                                    horizontal_flip= True)\n",
        "                                  "
      ],
      "metadata": {
        "id": "BJKHyZwsLusK"
      },
      "execution_count": null,
      "outputs": []
    },
    {
      "cell_type": "code",
      "source": [
        "training_set = train_datagen.flow_from_directory('Dataset_Mango_Kent/train',\n",
        "                                           target_size = (224, 224),\n",
        "                                             batch_size = 16,                             \n",
        "                                        class_mode = 'categorical')\n",
        "\n",
        "test_datagen = ImageDataGenerator(rescale = 1./255)\n",
        "test_set = test_datagen.flow_from_directory('Dataset_Mango_Kent/validation',\n",
        "                                         target_size = (224, 224),\n",
        "                                         batch_size=16,\n",
        "                                         class_mode = 'categorical')"
      ],
      "metadata": {
        "colab": {
          "base_uri": "https://localhost:8080/"
        },
        "id": "fZhTE-KOLx0J",
        "outputId": "0e3a8fda-2e0f-48e2-c0dd-d046dedf7fa0"
      },
      "execution_count": null,
      "outputs": [
        {
          "output_type": "stream",
          "name": "stdout",
          "text": [
            "Found 64 images belonging to 2 classes.\n",
            "Found 16 images belonging to 2 classes.\n"
          ]
        }
      ]
    },
    {
      "cell_type": "code",
      "source": [
        "j = model.fit_generator(training_set,  validation_data=test_set,  epochs=25,steps_per_epoch=len(training_set),validation_steps=len(test_set))"
      ],
      "metadata": {
        "colab": {
          "base_uri": "https://localhost:8080/"
        },
        "id": "B9IBurrRMjLc",
        "outputId": "0e0d1185-5818-499d-f540-14ee167ff3a0"
      },
      "execution_count": null,
      "outputs": [
        {
          "output_type": "stream",
          "name": "stderr",
          "text": [
            "<ipython-input-22-e1dc5c6745dc>:1: UserWarning: `Model.fit_generator` is deprecated and will be removed in a future version. Please use `Model.fit`, which supports generators.\n",
            "  j = model.fit_generator(training_set,  validation_data=test_set,  epochs=25,steps_per_epoch=len(training_set),validation_steps=len(test_set))\n"
          ]
        },
        {
          "output_type": "stream",
          "name": "stdout",
          "text": [
            "Epoch 1/25\n",
            "4/4 [==============================] - 55s 14s/step - loss: 1.7324 - accuracy: 0.4062 - val_loss: 1.2439 - val_accuracy: 0.5000\n",
            "Epoch 2/25\n",
            "4/4 [==============================] - 46s 12s/step - loss: 0.9853 - accuracy: 0.5938 - val_loss: 0.7788 - val_accuracy: 0.5000\n",
            "Epoch 3/25\n",
            "4/4 [==============================] - 48s 12s/step - loss: 0.7194 - accuracy: 0.5781 - val_loss: 0.3475 - val_accuracy: 0.9375\n",
            "Epoch 4/25\n",
            "4/4 [==============================] - 47s 12s/step - loss: 0.7103 - accuracy: 0.6719 - val_loss: 0.3085 - val_accuracy: 0.9375\n",
            "Epoch 5/25\n",
            "4/4 [==============================] - 47s 12s/step - loss: 0.4754 - accuracy: 0.7656 - val_loss: 0.6396 - val_accuracy: 0.6875\n",
            "Epoch 6/25\n",
            "4/4 [==============================] - 45s 12s/step - loss: 0.3819 - accuracy: 0.8281 - val_loss: 0.2652 - val_accuracy: 0.8750\n",
            "Epoch 7/25\n",
            "4/4 [==============================] - 45s 12s/step - loss: 0.3820 - accuracy: 0.7656 - val_loss: 0.1973 - val_accuracy: 0.9375\n",
            "Epoch 8/25\n",
            "4/4 [==============================] - 48s 12s/step - loss: 0.2486 - accuracy: 0.9531 - val_loss: 0.2095 - val_accuracy: 0.9375\n",
            "Epoch 9/25\n",
            "4/4 [==============================] - 46s 12s/step - loss: 0.1435 - accuracy: 1.0000 - val_loss: 0.1562 - val_accuracy: 1.0000\n",
            "Epoch 10/25\n",
            "4/4 [==============================] - 51s 13s/step - loss: 0.1674 - accuracy: 0.9688 - val_loss: 0.1598 - val_accuracy: 1.0000\n",
            "Epoch 11/25\n",
            "4/4 [==============================] - 48s 12s/step - loss: 0.1475 - accuracy: 0.9688 - val_loss: 0.1699 - val_accuracy: 1.0000\n",
            "Epoch 12/25\n",
            "4/4 [==============================] - 48s 12s/step - loss: 0.1277 - accuracy: 1.0000 - val_loss: 0.1381 - val_accuracy: 1.0000\n",
            "Epoch 13/25\n",
            "4/4 [==============================] - 48s 13s/step - loss: 0.0950 - accuracy: 1.0000 - val_loss: 0.1373 - val_accuracy: 0.9375\n",
            "Epoch 14/25\n",
            "4/4 [==============================] - 45s 12s/step - loss: 0.1009 - accuracy: 0.9844 - val_loss: 0.1255 - val_accuracy: 1.0000\n",
            "Epoch 15/25\n",
            "4/4 [==============================] - 46s 12s/step - loss: 0.0905 - accuracy: 1.0000 - val_loss: 0.1331 - val_accuracy: 1.0000\n",
            "Epoch 16/25\n",
            "4/4 [==============================] - 50s 12s/step - loss: 0.0942 - accuracy: 0.9844 - val_loss: 0.1153 - val_accuracy: 1.0000\n",
            "Epoch 17/25\n",
            "4/4 [==============================] - 48s 12s/step - loss: 0.0834 - accuracy: 0.9844 - val_loss: 0.1088 - val_accuracy: 1.0000\n",
            "Epoch 18/25\n",
            "4/4 [==============================] - 46s 12s/step - loss: 0.0757 - accuracy: 1.0000 - val_loss: 0.1043 - val_accuracy: 1.0000\n",
            "Epoch 19/25\n",
            "4/4 [==============================] - 46s 12s/step - loss: 0.0833 - accuracy: 1.0000 - val_loss: 0.0919 - val_accuracy: 1.0000\n",
            "Epoch 20/25\n",
            "4/4 [==============================] - 50s 13s/step - loss: 0.0803 - accuracy: 0.9844 - val_loss: 0.0879 - val_accuracy: 1.0000\n",
            "Epoch 21/25\n",
            "4/4 [==============================] - 49s 13s/step - loss: 0.0685 - accuracy: 1.0000 - val_loss: 0.0834 - val_accuracy: 1.0000\n",
            "Epoch 22/25\n",
            "4/4 [==============================] - 48s 13s/step - loss: 0.0559 - accuracy: 1.0000 - val_loss: 0.0822 - val_accuracy: 1.0000\n",
            "Epoch 23/25\n",
            "4/4 [==============================] - 48s 13s/step - loss: 0.0642 - accuracy: 1.0000 - val_loss: 0.0821 - val_accuracy: 1.0000\n",
            "Epoch 24/25\n",
            "4/4 [==============================] - 47s 12s/step - loss: 0.0633 - accuracy: 1.0000 - val_loss: 0.0832 - val_accuracy: 1.0000\n",
            "Epoch 25/25\n",
            "4/4 [==============================] - 45s 12s/step - loss: 0.0550 - accuracy: 1.0000 - val_loss: 0.0814 - val_accuracy: 1.0000\n"
          ]
        }
      ]
    }
  ]
}